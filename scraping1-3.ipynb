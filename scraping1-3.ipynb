{
 "cells": [
  {
   "cell_type": "code",
   "execution_count": 1,
   "id": "5fe0d055-bab5-4a01-86fd-c2a303d9e854",
   "metadata": {},
   "outputs": [],
   "source": [
    "import pandas as pd"
   ]
  },
  {
   "cell_type": "code",
   "execution_count": 2,
   "id": "48f058c5-8c0b-4779-9dff-43f0d870f07b",
   "metadata": {},
   "outputs": [],
   "source": [
    "import requests"
   ]
  },
  {
   "cell_type": "code",
   "execution_count": 3,
   "id": "a1e5ac67-3757-47a5-88dd-853b63583243",
   "metadata": {},
   "outputs": [],
   "source": [
    "from bs4 import BeautifulSoup"
   ]
  },
  {
   "cell_type": "code",
   "execution_count": 4,
   "id": "f7fe9e4b-e1ce-4b9c-b4c0-ee6251c90d3e",
   "metadata": {},
   "outputs": [],
   "source": [
    "years = list(range(2024,2022, -1))"
   ]
  },
  {
   "cell_type": "code",
   "execution_count": 5,
   "id": "b8215774-7f45-4a37-97df-b09bfc46fbff",
   "metadata": {},
   "outputs": [],
   "source": [
    "all_matches = []"
   ]
  },
  {
   "cell_type": "code",
   "execution_count": 6,
   "id": "bf2ffe46-9937-4e74-a81f-7d71af96a813",
   "metadata": {},
   "outputs": [],
   "source": [
    "standings_url = \"https://fbref.com/en/comps/12/La-Liga-Stats\""
   ]
  },
  {
   "cell_type": "code",
   "execution_count": null,
   "id": "1b0cb8fe-77d0-488e-ad40-54f8c4d59d0a",
   "metadata": {},
   "outputs": [],
   "source": [
    "import time\n",
    "for year in years:\n",
    "    data = requests.get(standings_url)\n",
    "    soup = BeautifulSoup(data.text)\n",
    "    table = soup.select('table.stats_table')\n",
    "    standings_table = soup.select('table.stats_table')[0]\n",
    "\n",
    "    links = [l.get(\"href\") for l in standings_table.find_all('a')]\n",
    "    links = [l for l in links if '/squads/' in l]\n",
    "    team_urls = [f\"https://fbref.com{l}\" for l in links]\n",
    "\n",
    "    previous_season = soup.select(\"a.prev\")[0].get(\"href\")\n",
    "    standings_url = f\"https://fbref.com/{previous_season}\"\n",
    "    \n",
    "    for team_url in team_urls:\n",
    "        team_name = team_url.split(\"/\")[-1].replace(\"-Stats\", \"\").replace(\"-\", \" \")\n",
    "\n",
    "        data = requests.get(team_url)\n",
    "        matches = pd.read_html((data.text), match = \"Scores & Fixtures\")[0]\n",
    "\n",
    "        soup = BeautifulSoup(data.text)\n",
    "        links = [l.get(\"href\") for l in soup.find_all('a')]\n",
    "        links = [l for l in links if l and 'all_comps/shooting/' in l]\n",
    "        data = requests.get(f\"https://fbref.com{links[0]}\")\n",
    "        shooting = pd.read_html((data.text), match = \"Shooting\")[0]\n",
    "        shooting.columns = shooting.columns.droplevel()\n",
    "\n",
    "        try:\n",
    "            team_data = matches.merge(shooting[[\"Date\", \"Sh\", \"SoT\", \"Dist\", \"FK\", \"PK\", \"PKatt\"]], on=\"Date\")\n",
    "        except ValueError:\n",
    "            continue\n",
    "\n",
    "        team_data = team_data[team_data[\"Comp\"] == \"La Liga\"]\n",
    "        team_data[\"Season\"] = year\n",
    "        team_data[\"Team\"] = team_name\n",
    "        all_matches.append(team_data)\n",
    "        time.sleep(1)"
   ]
  },
  {
   "cell_type": "code",
   "execution_count": null,
   "id": "34f3691b-8f48-411a-bcf3-26adeb9f5a1c",
   "metadata": {},
   "outputs": [],
   "source": [
    "match_df = pd.concat(all_matches)"
   ]
  },
  {
   "cell_type": "code",
   "execution_count": null,
   "id": "13657a1d-9b1f-4504-8bcd-336a60383a86",
   "metadata": {},
   "outputs": [],
   "source": [
    "match_df.columns = [c.lower() for c in match_df.columns]"
   ]
  },
  {
   "cell_type": "code",
   "execution_count": null,
   "id": "7690bf99-5af4-4661-bd1c-9d5fb59d76b8",
   "metadata": {},
   "outputs": [],
   "source": [
    "match_df"
   ]
  },
  {
   "cell_type": "code",
   "execution_count": null,
   "id": "06b9293a-b904-48cf-9be8-51b510519ae0",
   "metadata": {},
   "outputs": [],
   "source": [
    "match_df.to_csv(\"matches.csv\")"
   ]
  }
 ],
 "metadata": {
  "kernelspec": {
   "display_name": "Python 3 (ipykernel)",
   "language": "python",
   "name": "python3"
  },
  "language_info": {
   "codemirror_mode": {
    "name": "ipython",
    "version": 3
   },
   "file_extension": ".py",
   "mimetype": "text/x-python",
   "name": "python",
   "nbconvert_exporter": "python",
   "pygments_lexer": "ipython3",
   "version": "3.9.6"
  }
 },
 "nbformat": 4,
 "nbformat_minor": 5
}
